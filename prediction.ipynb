{
 "cells": [
  {
   "cell_type": "code",
   "execution_count": 20,
   "metadata": {},
   "outputs": [],
   "source": [
    "import pandas as pd\n",
    "import numpy as np\n",
    "import hidden"
   ]
  },
  {
   "cell_type": "code",
   "execution_count": 69,
   "metadata": {},
   "outputs": [
    {
     "name": "stdout",
     "output_type": "stream",
     "text": [
      "          0                  1            2             3      4  5\n",
      "0         1   Mobile Developer  $617,916.00        Senior   True  5\n",
      "1         2         BI Analyst  $715,617.00        Junior  False  2\n",
      "2         3  Software Engineer  $733,555.00  Intermediate   True  4\n",
      "3         4         BI Analyst  $469,200.00        Senior  False  2\n",
      "4         5   Mobile Developer  $464,303.00        Senior   True  4\n",
      "...     ...                ...          ...           ...    ... ..\n",
      "9995   9996        QA Engineer  $479,050.00        Junior   True  1\n",
      "9996   9997         BI Analyst  $364,932.00        Junior   True  1\n",
      "9997   9998         HR Manager  $475,838.00        Senior  False  1\n",
      "9998   9999        AI Engineer  $397,313.00  Intermediate  False  1\n",
      "9999  10000   Mobile Developer  $132,553.00        Senior  False  2\n",
      "\n",
      "[10000 rows x 6 columns]\n"
     ]
    }
   ],
   "source": [
    "import psycopg2\n",
    "\n",
    "# Load the secrets\n",
    "secrets = hidden.secrets()\n",
    "\n",
    "conn = psycopg2.connect(host=secrets['host'],\n",
    "        port=secrets['port'],\n",
    "        database=secrets['database'],\n",
    "        user=secrets['user'],\n",
    "        password=secrets['pass'],\n",
    "        connect_timeout=3)\n",
    "\n",
    "# Create a cursor object to interact with the database\n",
    "cur = conn.cursor()\n",
    "\n",
    "# Execute a SELECT query\n",
    "cur.execute(\"SELECT * FROM emp_happiness;\")\n",
    "\n",
    "# Fetch all the rows from the result set\n",
    "rows = cur.fetchall()\n",
    "\n",
    "# Close the cursor and the connection\n",
    "cur.close()\n",
    "conn.close()\n",
    "\n",
    "# Convert the fetched data into a pandas DataFrame\n",
    "df = pd.DataFrame(rows)\n",
    "\n",
    "# Print the DataFrame\n",
    "print(df)\n",
    "conn.close()\n"
   ]
  },
  {
   "cell_type": "code",
   "execution_count": 71,
   "metadata": {},
   "outputs": [
    {
     "data": {
      "text/html": [
       "<div>\n",
       "<style scoped>\n",
       "    .dataframe tbody tr th:only-of-type {\n",
       "        vertical-align: middle;\n",
       "    }\n",
       "\n",
       "    .dataframe tbody tr th {\n",
       "        vertical-align: top;\n",
       "    }\n",
       "\n",
       "    .dataframe thead th {\n",
       "        text-align: right;\n",
       "    }\n",
       "</style>\n",
       "<table border=\"1\" class=\"dataframe\">\n",
       "  <thead>\n",
       "    <tr style=\"text-align: right;\">\n",
       "      <th></th>\n",
       "      <th>id</th>\n",
       "      <th>occupation</th>\n",
       "      <th>salary</th>\n",
       "      <th>level</th>\n",
       "      <th>vacation</th>\n",
       "      <th>happiness</th>\n",
       "    </tr>\n",
       "  </thead>\n",
       "  <tbody>\n",
       "    <tr>\n",
       "      <th>0</th>\n",
       "      <td>1</td>\n",
       "      <td>Mobile Developer</td>\n",
       "      <td>$617,916.00</td>\n",
       "      <td>Senior</td>\n",
       "      <td>True</td>\n",
       "      <td>5</td>\n",
       "    </tr>\n",
       "    <tr>\n",
       "      <th>1</th>\n",
       "      <td>2</td>\n",
       "      <td>BI Analyst</td>\n",
       "      <td>$715,617.00</td>\n",
       "      <td>Junior</td>\n",
       "      <td>False</td>\n",
       "      <td>2</td>\n",
       "    </tr>\n",
       "    <tr>\n",
       "      <th>2</th>\n",
       "      <td>3</td>\n",
       "      <td>Software Engineer</td>\n",
       "      <td>$733,555.00</td>\n",
       "      <td>Intermediate</td>\n",
       "      <td>True</td>\n",
       "      <td>4</td>\n",
       "    </tr>\n",
       "    <tr>\n",
       "      <th>3</th>\n",
       "      <td>4</td>\n",
       "      <td>BI Analyst</td>\n",
       "      <td>$469,200.00</td>\n",
       "      <td>Senior</td>\n",
       "      <td>False</td>\n",
       "      <td>2</td>\n",
       "    </tr>\n",
       "    <tr>\n",
       "      <th>4</th>\n",
       "      <td>5</td>\n",
       "      <td>Mobile Developer</td>\n",
       "      <td>$464,303.00</td>\n",
       "      <td>Senior</td>\n",
       "      <td>True</td>\n",
       "      <td>4</td>\n",
       "    </tr>\n",
       "  </tbody>\n",
       "</table>\n",
       "</div>"
      ],
      "text/plain": [
       "   id         occupation       salary         level  vacation  happiness\n",
       "0   1   Mobile Developer  $617,916.00        Senior      True          5\n",
       "1   2         BI Analyst  $715,617.00        Junior     False          2\n",
       "2   3  Software Engineer  $733,555.00  Intermediate      True          4\n",
       "3   4         BI Analyst  $469,200.00        Senior     False          2\n",
       "4   5   Mobile Developer  $464,303.00        Senior      True          4"
      ]
     },
     "execution_count": 71,
     "metadata": {},
     "output_type": "execute_result"
    }
   ],
   "source": [
    "df.columns = ['id', 'occupation', 'salary', 'level', 'vacation', 'happiness']\n",
    "df.head()"
   ]
  },
  {
   "cell_type": "code",
   "execution_count": 72,
   "metadata": {},
   "outputs": [
    {
     "name": "stdout",
     "output_type": "stream",
     "text": [
      "<class 'pandas.core.frame.DataFrame'>\n",
      "RangeIndex: 10000 entries, 0 to 9999\n",
      "Data columns (total 6 columns):\n",
      " #   Column      Non-Null Count  Dtype \n",
      "---  ------      --------------  ----- \n",
      " 0   id          10000 non-null  int64 \n",
      " 1   occupation  10000 non-null  object\n",
      " 2   salary      10000 non-null  object\n",
      " 3   level       10000 non-null  object\n",
      " 4   vacation    10000 non-null  bool  \n",
      " 5   happiness   10000 non-null  int64 \n",
      "dtypes: bool(1), int64(2), object(3)\n",
      "memory usage: 400.5+ KB\n"
     ]
    }
   ],
   "source": [
    "df.info()"
   ]
  },
  {
   "cell_type": "code",
   "execution_count": 73,
   "metadata": {},
   "outputs": [
    {
     "name": "stdout",
     "output_type": "stream",
     "text": [
      "<class 'pandas.core.frame.DataFrame'>\n",
      "RangeIndex: 10000 entries, 0 to 9999\n",
      "Data columns (total 6 columns):\n",
      " #   Column      Non-Null Count  Dtype \n",
      "---  ------      --------------  ----- \n",
      " 0   id          10000 non-null  int64 \n",
      " 1   occupation  10000 non-null  object\n",
      " 2   salary      10000 non-null  int64 \n",
      " 3   level       10000 non-null  object\n",
      " 4   vacation    10000 non-null  bool  \n",
      " 5   happiness   10000 non-null  int64 \n",
      "dtypes: bool(1), int64(3), object(2)\n",
      "memory usage: 400.5+ KB\n"
     ]
    }
   ],
   "source": [
    "df['salary'] = df.salary.str.strip('$').str.replace(',', '').str.replace('.00', '').astype(int)\n",
    "df.info()"
   ]
  },
  {
   "cell_type": "code",
   "execution_count": 74,
   "metadata": {},
   "outputs": [
    {
     "name": "stdout",
     "output_type": "stream",
     "text": [
      "<class 'pandas.core.frame.DataFrame'>\n",
      "RangeIndex: 10000 entries, 0 to 9999\n",
      "Data columns (total 5 columns):\n",
      " #   Column      Non-Null Count  Dtype \n",
      "---  ------      --------------  ----- \n",
      " 0   occupation  10000 non-null  object\n",
      " 1   salary      10000 non-null  int64 \n",
      " 2   level       10000 non-null  object\n",
      " 3   vacation    10000 non-null  bool  \n",
      " 4   happiness   10000 non-null  int64 \n",
      "dtypes: bool(1), int64(2), object(2)\n",
      "memory usage: 322.4+ KB\n"
     ]
    }
   ],
   "source": [
    "df.drop('id', inplace=True, axis=1)\n",
    "df.info()"
   ]
  },
  {
   "cell_type": "code",
   "execution_count": 75,
   "metadata": {},
   "outputs": [],
   "source": [
    "df.to_csv(\"employee happiness.csv\", index=False)"
   ]
  },
  {
   "cell_type": "code",
   "execution_count": 55,
   "metadata": {},
   "outputs": [],
   "source": [
    "import seaborn as sns\n",
    "import matplotlib.pyplot as plt\n"
   ]
  },
  {
   "cell_type": "code",
   "execution_count": 56,
   "metadata": {},
   "outputs": [
    {
     "data": {
      "text/plain": [
       "<Axes: xlabel='occupation', ylabel='salary'>"
      ]
     },
     "execution_count": 56,
     "metadata": {},
     "output_type": "execute_result"
    },
    {
     "data": {
      "image/png": "[encoded data removed]",
      "text/plain": [
       "<Figure size 640x480 with 1 Axes>"
      ]
     },
     "metadata": {},
     "output_type": "display_data"
    }
   ],
   "source": [
    "sns.barplot(x='occupation', y='salary', data=df)"
   ]
  },
  {
   "cell_type": "code",
   "execution_count": 57,
   "metadata": {},
   "outputs": [
    {
     "data": {
      "text/plain": [
       "<Axes: xlabel='happiness', ylabel='salary'>"
      ]
     },
     "execution_count": 57,
     "metadata": {},
     "output_type": "execute_result"
    },
    {
     "data": {
      "image/png": "[encoded data removed]",
      "text/plain": [
       "<Figure size 640x480 with 1 Axes>"
      ]
     },
     "metadata": {},
     "output_type": "display_data"
    }
   ],
   "source": [
    "sns.barplot(x='happiness', y='salary', hue='vacation', data=df)"
   ]
  },
  {
   "cell_type": "code",
   "execution_count": 58,
   "metadata": {},
   "outputs": [
    {
     "data": {
      "text/plain": [
       "<Axes: xlabel='level', ylabel='happiness'>"
      ]
     },
     "execution_count": 58,
     "metadata": {},
     "output_type": "execute_result"
    },
    {
     "data": {
      "image/png": "[encoded data removed]",
      "text/plain": [
       "<Figure size 640x480 with 1 Axes>"
      ]
     },
     "metadata": {},
     "output_type": "display_data"
    }
   ],
   "source": [
    "sns.lineplot(x='level', y='happiness', data=df)"
   ]
  },
  {
   "cell_type": "code",
   "execution_count": 59,
   "metadata": {},
   "outputs": [
    {
     "data": {
      "text/html": [
       "<div>\n",
       "<style scoped>\n",
       "    .dataframe tbody tr th:only-of-type {\n",
       "        vertical-align: middle;\n",
       "    }\n",
       "\n",
       "    .dataframe tbody tr th {\n",
       "        vertical-align: top;\n",
       "    }\n",
       "\n",
       "    .dataframe thead th {\n",
       "        text-align: right;\n",
       "    }\n",
       "</style>\n",
       "<table border=\"1\" class=\"dataframe\">\n",
       "  <thead>\n",
       "    <tr style=\"text-align: right;\">\n",
       "      <th></th>\n",
       "      <th>occupation</th>\n",
       "      <th>salary</th>\n",
       "      <th>level</th>\n",
       "      <th>vacation</th>\n",
       "      <th>happiness</th>\n",
       "    </tr>\n",
       "  </thead>\n",
       "  <tbody>\n",
       "    <tr>\n",
       "      <th>0</th>\n",
       "      <td>Mobile Developer</td>\n",
       "      <td>617916</td>\n",
       "      <td>Senior</td>\n",
       "      <td>True</td>\n",
       "      <td>5</td>\n",
       "    </tr>\n",
       "    <tr>\n",
       "      <th>1</th>\n",
       "      <td>BI Analyst</td>\n",
       "      <td>715617</td>\n",
       "      <td>Junior</td>\n",
       "      <td>False</td>\n",
       "      <td>2</td>\n",
       "    </tr>\n",
       "    <tr>\n",
       "      <th>2</th>\n",
       "      <td>Software Engineer</td>\n",
       "      <td>733555</td>\n",
       "      <td>Intermediate</td>\n",
       "      <td>True</td>\n",
       "      <td>4</td>\n",
       "    </tr>\n",
       "    <tr>\n",
       "      <th>3</th>\n",
       "      <td>BI Analyst</td>\n",
       "      <td>469200</td>\n",
       "      <td>Senior</td>\n",
       "      <td>False</td>\n",
       "      <td>2</td>\n",
       "    </tr>\n",
       "    <tr>\n",
       "      <th>4</th>\n",
       "      <td>Mobile Developer</td>\n",
       "      <td>464303</td>\n",
       "      <td>Senior</td>\n",
       "      <td>True</td>\n",
       "      <td>4</td>\n",
       "    </tr>\n",
       "  </tbody>\n",
       "</table>\n",
       "</div>"
      ],
      "text/plain": [
       "          occupation  salary         level  vacation  happiness\n",
       "0   Mobile Developer  617916        Senior      True          5\n",
       "1         BI Analyst  715617        Junior     False          2\n",
       "2  Software Engineer  733555  Intermediate      True          4\n",
       "3         BI Analyst  469200        Senior     False          2\n",
       "4   Mobile Developer  464303        Senior      True          4"
      ]
     },
     "execution_count": 59,
     "metadata": {},
     "output_type": "execute_result"
    }
   ],
   "source": [
    "df.head()"
   ]
  },
  {
   "cell_type": "code",
   "execution_count": 60,
   "metadata": {},
   "outputs": [
    {
     "data": {
      "text/html": [
       "<div>\n",
       "<style scoped>\n",
       "    .dataframe tbody tr th:only-of-type {\n",
       "        vertical-align: middle;\n",
       "    }\n",
       "\n",
       "    .dataframe tbody tr th {\n",
       "        vertical-align: top;\n",
       "    }\n",
       "\n",
       "    .dataframe thead th {\n",
       "        text-align: right;\n",
       "    }\n",
       "</style>\n",
       "<table border=\"1\" class=\"dataframe\">\n",
       "  <thead>\n",
       "    <tr style=\"text-align: right;\">\n",
       "      <th></th>\n",
       "      <th>occupation</th>\n",
       "      <th>salary</th>\n",
       "      <th>level</th>\n",
       "      <th>vacation</th>\n",
       "      <th>happiness</th>\n",
       "    </tr>\n",
       "  </thead>\n",
       "  <tbody>\n",
       "    <tr>\n",
       "      <th>0</th>\n",
       "      <td>1</td>\n",
       "      <td>617916</td>\n",
       "      <td>2</td>\n",
       "      <td>1</td>\n",
       "      <td>5</td>\n",
       "    </tr>\n",
       "    <tr>\n",
       "      <th>1</th>\n",
       "      <td>3</td>\n",
       "      <td>715617</td>\n",
       "      <td>0</td>\n",
       "      <td>0</td>\n",
       "      <td>2</td>\n",
       "    </tr>\n",
       "    <tr>\n",
       "      <th>2</th>\n",
       "      <td>2</td>\n",
       "      <td>733555</td>\n",
       "      <td>1</td>\n",
       "      <td>1</td>\n",
       "      <td>4</td>\n",
       "    </tr>\n",
       "    <tr>\n",
       "      <th>3</th>\n",
       "      <td>3</td>\n",
       "      <td>469200</td>\n",
       "      <td>2</td>\n",
       "      <td>0</td>\n",
       "      <td>2</td>\n",
       "    </tr>\n",
       "    <tr>\n",
       "      <th>4</th>\n",
       "      <td>1</td>\n",
       "      <td>464303</td>\n",
       "      <td>2</td>\n",
       "      <td>1</td>\n",
       "      <td>4</td>\n",
       "    </tr>\n",
       "  </tbody>\n",
       "</table>\n",
       "</div>"
      ],
      "text/plain": [
       "   occupation  salary  level  vacation  happiness\n",
       "0           1  617916      2         1          5\n",
       "1           3  715617      0         0          2\n",
       "2           2  733555      1         1          4\n",
       "3           3  469200      2         0          2\n",
       "4           1  464303      2         1          4"
      ]
     },
     "execution_count": 60,
     "metadata": {},
     "output_type": "execute_result"
    }
   ],
   "source": [
    "# Encode 'occupation' column\n",
    "df['occupation'] = np.where(df['occupation'] == 'AI Engineer', 0,\n",
    "                                   np.where(df['occupation'] == 'Mobile Developer', 1,\n",
    "                                            np.where(df['occupation'] == 'Software Engineer', 2,\n",
    "                                                     np.where(df['occupation'] == 'BI Analyst', 3,\n",
    "                                                              np.where(df['occupation'] == 'QA Engineer', 4, 5)))))\n",
    "\n",
    "# Encode 'level' column\n",
    "df['level'] = np.where(df['level'] == 'Junior', 0,\n",
    "                              np.where(df['level'] == 'Intermediate', 1, 2))\n",
    "\n",
    "# Encode 'vacation' column\n",
    "df['vacation'] = np.where(df['vacation'] == False, 0, 1)\n",
    "\n",
    "df.head()\n"
   ]
  },
  {
   "cell_type": "code",
   "execution_count": 61,
   "metadata": {},
   "outputs": [],
   "source": [
    "from sklearn.model_selection import train_test_split\n",
    "from sklearn.linear_model import LogisticRegression\n",
    "from sklearn.tree import DecisionTreeClassifier\n",
    "from sklearn.ensemble import RandomForestClassifier, GradientBoostingClassifier\n",
    "from sklearn.svm import SVC\n",
    "from sklearn.naive_bayes import GaussianNB, MultinomialNB\n",
    "from sklearn.metrics import accuracy_score, classification_report, confusion_matrix"
   ]
  },
  {
   "cell_type": "code",
   "execution_count": 62,
   "metadata": {},
   "outputs": [
    {
     "name": "stdout",
     "output_type": "stream",
     "text": [
      "Train dataset shape: (8000, 4)\n",
      "Test dataset shape: (2000, 4)\n"
     ]
    }
   ],
   "source": [
    "X = df.drop(['happiness'], axis=1)\n",
    "y = df['happiness']\n",
    "\n",
    "# Split the dataset into train and test\n",
    "X_train, X_test, y_train, y_test = train_test_split(X, y, test_size=0.2, random_state=42)\n",
    "\n",
    "# Print the shapes of train and test datasets\n",
    "print(\"Train dataset shape:\", X_train.shape)\n",
    "print(\"Test dataset shape:\", X_test.shape)\n"
   ]
  },
  {
   "cell_type": "code",
   "execution_count": 63,
   "metadata": {},
   "outputs": [
    {
     "name": "stdout",
     "output_type": "stream",
     "text": [
      "LogisticRegression()\n",
      "Accuracy: 0.428\n",
      "\n",
      "\n",
      "\n",
      "DecisionTreeClassifier()\n",
      "Accuracy: 0.4865\n",
      "\n",
      "\n",
      "\n",
      "RandomForestClassifier()\n",
      "Accuracy: 0.475\n",
      "\n",
      "\n",
      "\n",
      "GradientBoostingClassifier()\n",
      "Accuracy: 0.4695\n",
      "\n",
      "\n",
      "\n",
      "SVC()\n",
      "Accuracy: 0.428\n",
      "\n",
      "\n",
      "\n",
      "GaussianNB()\n",
      "Accuracy: 0.428\n",
      "\n",
      "\n",
      "\n",
      "MultinomialNB()\n",
      "Accuracy: 0.4255\n",
      "\n",
      "\n",
      "\n"
     ]
    }
   ],
   "source": [
    "models = [LogisticRegression(), DecisionTreeClassifier(), RandomForestClassifier(), GradientBoostingClassifier(), SVC(), GaussianNB(), MultinomialNB()] \n",
    "\n",
    "for model in models:\n",
    "    model.fit(X_train, y_train)\n",
    "    y_pred = model.predict(X_test)\n",
    "    print(model)\n",
    "    print(\"Accuracy:\", accuracy_score(y_test, y_pred))\n",
    "    print(\"\\n\\n\")"
   ]
  },
  {
   "cell_type": "code",
   "execution_count": 66,
   "metadata": {},
   "outputs": [
    {
     "data": {
      "text/plain": [
       "array([[427, 429,   0,   0,   0],\n",
       "       [411, 435,   0,   0,   0],\n",
       "       [  0,   0,  33,  38,  32],\n",
       "       [  0,   0,  31,  39,  30],\n",
       "       [  0,   0,  24,  34,  37]])"
      ]
     },
     "execution_count": 66,
     "metadata": {},
     "output_type": "execute_result"
    }
   ],
   "source": [
    "model = DecisionTreeClassifier()\n",
    "model.fit(X_train, y_train)\n",
    "y_pred = model.predict(X_test)\n",
    "confusion_matrix(y_test, y_pred)\n"
   ]
  },
  {
   "cell_type": "code",
   "execution_count": 67,
   "metadata": {},
   "outputs": [
    {
     "name": "stderr",
     "output_type": "stream",
     "text": [
      "/Users/ifeoluwaoduwaiye/miniconda3/envs/ml/lib/python3.12/site-packages/sklearn/base.py:465: UserWarning: X does not have valid feature names, but DecisionTreeClassifier was fitted with feature names\n",
      "  warnings.warn(\n"
     ]
    },
    {
     "data": {
      "text/plain": [
       "2"
      ]
     },
     "execution_count": 67,
     "metadata": {},
     "output_type": "execute_result"
    }
   ],
   "source": [
    "model.predict([[0, 250000, 1, 0]])[0]"
   ]
  },
  {
   "cell_type": "code",
   "execution_count": 68,
   "metadata": {},
   "outputs": [],
   "source": [
    "import pickle\n",
    "\n",
    "# Save the model to a pickle file\n",
    "with open('model.pkl', 'wb') as file:\n",
    "    pickle.dump(model, file)"
   ]
  },
  {
   "cell_type": "code",
   "execution_count": null,
   "metadata": {},
   "outputs": [],
   "source": []
  }
 ],
 "metadata": {
  "kernelspec": {
   "display_name": "ml",
   "language": "python",
   "name": "python3"
  },
  "language_info": {
   "codemirror_mode": {
    "name": "ipython",
    "version": 3
   },
   "file_extension": ".py",
   "mimetype": "text/x-python",
   "name": "python",
   "nbconvert_exporter": "python",
   "pygments_lexer": "ipython3",
   "version": "3.12.0"
  }
 },
 "nbformat": 4,
 "nbformat_minor": 2
}
